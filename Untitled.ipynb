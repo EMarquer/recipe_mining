{
 "cells": [
  {
   "cell_type": "code",
   "execution_count": 88,
   "metadata": {},
   "outputs": [],
   "source": [
    "ingrs =\"\"\"\n",
    "2 blancs de poulet coupés en lamelles\n",
    "1 cuillère à soupe d'huile\n",
    "1 gousse d'ail\n",
    "1 oignon émincé\n",
    "1 carotte coupée en bâtonnets\n",
    "100g de germes de soja\n",
    "60cl de bouillon de volaille\n",
    "1 cuillère à soupe de farine ou maïzena\n",
    "1/2 cuillère à soupe de piment (ou des gouttes de Tabasco)\n",
    "1/2 cuillère à café de gingembre en poudre\n",
    "1 cuillère à soupe de sauce soja\n",
    "1/2 cuillère à soupe de vinaigre\n",
    "125g de nouilles chinoises\n",
    "3 champignons noirs\n",
    "Poivre\n",
    "Sel\n",
    "\"\"\"\n"
   ]
  },
  {
   "cell_type": "code",
   "execution_count": 89,
   "metadata": {},
   "outputs": [],
   "source": [
    "ingrs= ingrs.strip()"
   ]
  },
  {
   "cell_type": "code",
   "execution_count": 90,
   "metadata": {},
   "outputs": [],
   "source": [
    "ingrs = ingrs.split('\\n')"
   ]
  },
  {
   "cell_type": "code",
   "execution_count": 91,
   "metadata": {},
   "outputs": [],
   "source": [
    "def process(ings):\n",
    "\n",
    "    print(ings)\n",
    "    \n",
    "    result = []\n",
    "    for i in ings:\n",
    "        split_ings = i.replace(\"\\t\",\"\").split(' ') \n",
    "        quantity = split_ings[0] if len(split_ings) > 1 else \"\"\n",
    "        product = split_ings[1:] if len(split_ings) > 1  else [split_ings[0]]\n",
    "        result.append(\"<IN quantity=\\\"{}\\\">{}</IN>\".format(quantity,\" \".join(product)))\n",
    "        \n",
    "    return result\n",
    "    \n",
    "    \n",
    "    "
   ]
  },
  {
   "cell_type": "code",
   "execution_count": 92,
   "metadata": {},
   "outputs": [
    {
     "name": "stdout",
     "output_type": "stream",
     "text": [
      "['2 blancs de poulet coupés en lamelles', \"1 cuillère à soupe d'huile\", \"1 gousse d'ail\", '1 oignon émincé', '1 carotte coupée en bâtonnets', '100g de germes de soja', '60cl de bouillon de volaille', '1 cuillère à soupe de farine ou maïzena', '1/2 cuillère à soupe de piment (ou des gouttes de Tabasco)', '1/2 cuillère à café de gingembre en poudre', '1 cuillère à soupe de sauce soja', '1/2 cuillère à soupe de vinaigre', '125g de nouilles chinoises', '3 champignons noirs', 'Poivre', 'Sel']\n"
     ]
    }
   ],
   "source": [
    "res = process(ingrs)"
   ]
  },
  {
   "cell_type": "code",
   "execution_count": 93,
   "metadata": {},
   "outputs": [
    {
     "name": "stdout",
     "output_type": "stream",
     "text": [
      "<IN quantity=\"2\">blancs de poulet coupés en lamelles</IN>\n",
      "<IN quantity=\"1\">cuillère à soupe d'huile</IN>\n",
      "<IN quantity=\"1\">gousse d'ail</IN>\n",
      "<IN quantity=\"1\">oignon émincé</IN>\n",
      "<IN quantity=\"1\">carotte coupée en bâtonnets</IN>\n",
      "<IN quantity=\"100g\">de germes de soja</IN>\n",
      "<IN quantity=\"60cl\">de bouillon de volaille</IN>\n",
      "<IN quantity=\"1\">cuillère à soupe de farine ou maïzena</IN>\n",
      "<IN quantity=\"1/2\">cuillère à soupe de piment (ou des gouttes de Tabasco)</IN>\n",
      "<IN quantity=\"1/2\">cuillère à café de gingembre en poudre</IN>\n",
      "<IN quantity=\"1\">cuillère à soupe de sauce soja</IN>\n",
      "<IN quantity=\"1/2\">cuillère à soupe de vinaigre</IN>\n",
      "<IN quantity=\"125g\">de nouilles chinoises</IN>\n",
      "<IN quantity=\"3\">champignons noirs</IN>\n",
      "<IN quantity=\"\">Poivre</IN>\n",
      "<IN quantity=\"\">Sel</IN>\n"
     ]
    }
   ],
   "source": [
    "for i in res:\n",
    "    print(i)"
   ]
  },
  {
   "cell_type": "code",
   "execution_count": null,
   "metadata": {},
   "outputs": [],
   "source": []
  },
  {
   "cell_type": "code",
   "execution_count": null,
   "metadata": {},
   "outputs": [],
   "source": []
  },
  {
   "cell_type": "code",
   "execution_count": null,
   "metadata": {},
   "outputs": [],
   "source": []
  }
 ],
 "metadata": {
  "kernelspec": {
   "display_name": "Python 3",
   "language": "python",
   "name": "python3"
  },
  "language_info": {
   "codemirror_mode": {
    "name": "ipython",
    "version": 3
   },
   "file_extension": ".py",
   "mimetype": "text/x-python",
   "name": "python",
   "nbconvert_exporter": "python",
   "pygments_lexer": "ipython3",
   "version": "3.7.4"
  }
 },
 "nbformat": 4,
 "nbformat_minor": 2
}
